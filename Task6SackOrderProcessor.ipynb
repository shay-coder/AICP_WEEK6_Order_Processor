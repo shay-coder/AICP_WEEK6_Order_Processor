{
  "nbformat": 4,
  "nbformat_minor": 0,
  "metadata": {
    "colab": {
      "provenance": []
    },
    "kernelspec": {
      "name": "python3",
      "display_name": "Python 3"
    },
    "language_info": {
      "name": "python"
    }
  },
  "cells": [
    {
      "cell_type": "markdown",
      "source": [
        "# **To check the content & weight of single sack**"
      ],
      "metadata": {
        "id": "_kCkgWoVceHj"
      }
    },
    {
      "cell_type": "code",
      "source": [
        "def check_sack(contents, weight):\n",
        "    valid_contents = ['C', 'G', 'S']\n",
        "\n",
        "    if not all(char in valid_contents for char in contents):\n",
        "        return \"Invalid contents. Must be C (cement), G (gravel), or S (sand).\"\n",
        "\n",
        "    if 'C' in contents and not (24.9 < weight < 25.1):\n",
        "        return \"Invalid weight for cement sack. Must be between 24.9 and 25.1 kilograms.\"\n",
        "\n",
        "    if any(char in contents for char in ['G', 'S']) and not (49.9 < weight < 50.1):\n",
        "        return \"Invalid weight for gravel or sand sack. Must be between 49.9 and 50.1 kilograms.\"\n",
        "\n",
        "    return f\"Accepted sack - Contents: {contents}, Weight: {weight} kilograms.\"\n",
        "\n",
        "# Example usage\n",
        "sack_contents = input(\"Enter contents (C, G, or S): \").upper()\n",
        "sack_weight = float(input(\"Enter weight in kilograms:\"))\n",
        "\n",
        "result = check_sack(sack_contents, sack_weight)\n",
        "print(result)\n",
        "\n",
        "\n",
        "\n"
      ],
      "metadata": {
        "colab": {
          "base_uri": "https://localhost:8080/"
        },
        "id": "bgHpIi78cmB4",
        "outputId": "8e153c98-65c7-427f-d2af-9d1bc933f99f"
      },
      "execution_count": null,
      "outputs": [
        {
          "output_type": "stream",
          "name": "stdout",
          "text": [
            "Enter contents (C, G, or S): GS\n",
            "Enter weight in kilograms:50\n",
            "Accepted sack - Contents: GS, Weight: 50.0 kilograms.\n"
          ]
        }
      ]
    },
    {
      "cell_type": "markdown",
      "source": [
        "# **Check customer's order for delivery**"
      ],
      "metadata": {
        "id": "cBIj5XmMf5WD"
      }
    },
    {
      "cell_type": "code",
      "source": [
        "def check_sack(contents, weight):\n",
        "    valid_contents = {'C': (24.9, 25.1), 'G': (49.9, 50.1), 'S': (49.9, 50.1)}\n",
        "\n",
        "    if contents not in valid_contents:\n",
        "        return f\"Invalid contents. Must be {', '.join(valid_contents.keys())}.\"\n",
        "\n",
        "    weight_range = valid_contents[contents]\n",
        "    if not (weight_range[0] < weight < weight_range[1]):\n",
        "        return f\"Invalid weight for {contents} sack. Must be between {weight_range[0]} and {weight_range[1]} kilograms.\"\n",
        "\n",
        "    return True\n",
        "\n",
        "\n",
        "def check_order(order):\n",
        "    total_weight = 0\n",
        "    rejected_sacks = 0\n",
        "\n",
        "    for sack_type, quantity in order.items():\n",
        "        for _ in range(quantity):\n",
        "            sack_contents = input(f\"Enter contents for {sack_type} sack (C, G, or S): \").upper()\n",
        "            sack_weight = float(input(f\"Enter weight in kilograms for {sack_type} sack: \"))\n",
        "\n",
        "            result = check_sack(sack_contents, sack_weight)\n",
        "\n",
        "            if result is True:\n",
        "                total_weight += sack_weight\n",
        "            else:\n",
        "                rejected_sacks += 1\n",
        "                print(result)\n",
        "\n",
        "    print(f\"\\nTotal weight of the order: {total_weight} kilograms.\")\n",
        "    print(f\"Number of sacks rejected: {rejected_sacks}\")\n",
        "\n",
        "\n",
        "order = {'C': 1, 'G': 1, 'S': 1}\n",
        "check_order(order)\n"
      ],
      "metadata": {
        "colab": {
          "base_uri": "https://localhost:8080/"
        },
        "id": "knQ3LIFZf96g",
        "outputId": "b67383aa-643b-477d-a991-8d1552d186f1"
      },
      "execution_count": null,
      "outputs": [
        {
          "output_type": "stream",
          "name": "stdout",
          "text": [
            "Enter contents for C sack (C, G, or S): G\n",
            "Enter weight in kilograms for C sack: 66\n",
            "Invalid weight for G sack. Must be between 49.9 and 50.1 kilograms.\n",
            "Enter contents for G sack (C, G, or S): G\n",
            "Enter weight in kilograms for G sack: 25\n",
            "Invalid weight for G sack. Must be between 49.9 and 50.1 kilograms.\n",
            "Enter contents for S sack (C, G, or S): S\n",
            "Enter weight in kilograms for S sack: 58\n",
            "Invalid weight for S sack. Must be between 49.9 and 50.1 kilograms.\n",
            "\n",
            "Total weight of the order: 0 kilograms.\n",
            "Number of sacks rejected: 3\n"
          ]
        }
      ]
    },
    {
      "cell_type": "code",
      "source": [
        "def check_sack(contents, weight):\n",
        "    valid_contents = {'C': (24.9, 25.1), 'G': (49.9, 50.1), 'S': (49.9, 50.1)}\n",
        "\n",
        "    if contents not in valid_contents:\n",
        "        return f\"Invalid contents. Must be {', '.join(valid_contents.keys())}.\"\n",
        "\n",
        "    weight_range = valid_contents[contents]\n",
        "    if not (weight_range[0] < weight < weight_range[1]):\n",
        "        return f\"Invalid weight for {contents} sack. Must be between {weight_range[0]} and {weight_range[1]} kilograms.\"\n",
        "\n",
        "    return True\n",
        "\n",
        "\n",
        "def check_order(order):\n",
        "    total_weight = 0\n",
        "    total_price = 0\n",
        "    rejected_sacks = 0\n",
        "\n",
        "    sack_prices = {'C': 3, 'G': 2, 'S': 2}\n",
        "\n",
        "    for sack_type, quantity in order.items():\n",
        "        for _ in range(quantity):\n",
        "            sack_contents = input(f\"Enter contents for {sack_type} sack (C, G, or S): \").upper()\n",
        "            sack_weight = float(input(f\"Enter weight in kilograms for {sack_type} sack: \"))\n",
        "\n",
        "            result = check_sack(sack_contents, sack_weight)\n",
        "\n",
        "            if result is True:\n",
        "                total_weight += sack_weight\n",
        "                total_price += sack_prices[sack_contents]\n",
        "            else:\n",
        "                rejected_sacks += 1\n",
        "                print(result)\n",
        "\n",
        "    print(f\"\\nTotal weight of the order: {total_weight} kilograms.\")\n",
        "    print(f\"Number of sacks rejected: {rejected_sacks}\")\n",
        "    print(f\"Total price for the order: ${total_price}\")\n",
        "\n",
        "\n",
        "order = {'C': 1, 'G': 1, 'S': 1}\n",
        "check_order(order)\n"
      ],
      "metadata": {
        "colab": {
          "base_uri": "https://localhost:8080/"
        },
        "id": "IVBn52ERkrfU",
        "outputId": "0d9ea9f9-93b1-424e-da48-a3c80f7974fc"
      },
      "execution_count": null,
      "outputs": [
        {
          "output_type": "stream",
          "name": "stdout",
          "text": [
            "Enter contents for C sack (C, G, or S): G\n",
            "Enter weight in kilograms for C sack: 25\n",
            "Invalid weight for G sack. Must be between 49.9 and 50.1 kilograms.\n",
            "Enter contents for G sack (C, G, or S): S\n",
            "Enter weight in kilograms for G sack: 50\n",
            "Enter contents for S sack (C, G, or S): G\n",
            "Enter weight in kilograms for S sack: 50\n",
            "\n",
            "Total weight of the order: 100.0 kilograms.\n",
            "Number of sacks rejected: 1\n",
            "Total price for the order: $4\n"
          ]
        }
      ]
    },
    {
      "cell_type": "markdown",
      "source": [
        "# **Calculate the price for customer's order**"
      ],
      "metadata": {
        "id": "TXnvH00wi-54"
      }
    },
    {
      "cell_type": "code",
      "source": [
        "def check_sack(contents, weight):\n",
        "    valid_contents = {'C': (24.9, 25.1), 'G': (49.9, 50.1), 'S': (49.9, 50.1)}\n",
        "\n",
        "    if contents not in valid_contents:\n",
        "        return f\"Invalid contents. Must be {', '.join(valid_contents.keys())}.\"\n",
        "\n",
        "    weight_range = valid_contents[contents]\n",
        "    if not (weight_range[0] < weight < weight_range[1]):\n",
        "        return f\"Invalid weight for {contents} sack. Must be between {weight_range[0]} and {weight_range[1]} kilograms.\"\n",
        "\n",
        "    return True\n",
        "\n",
        "\n",
        "def check_order(order):\n",
        "    total_weight = 0\n",
        "    total_price = 0\n",
        "    rejected_sacks = 0\n",
        "\n",
        "    sack_prices = {'C': 3, 'G': 2, 'S': 2}\n",
        "\n",
        "    for sack_type, quantity in order.items():\n",
        "        for _ in range(quantity):\n",
        "            sack_contents = input(f\"Enter contents for {sack_type} sack (C, G, or S): \").upper()\n",
        "            sack_weight = float(input(f\"Enter weight in kilograms for {sack_type} sack: \"))\n",
        "\n",
        "            result = check_sack(sack_contents, sack_weight)\n",
        "\n",
        "            if result is True:\n",
        "                total_weight += sack_weight\n",
        "                total_price += sack_prices[sack_contents]\n",
        "            else:\n",
        "                rejected_sacks += 1\n",
        "                print(result)\n",
        "\n",
        "    print(f\"\\nTotal weight of the order: {total_weight} kilograms.\")\n",
        "    print(f\"Number of sacks rejected: {rejected_sacks}\")\n",
        "    print(f\"Total price for the order: ${total_price}\")\n",
        "\n",
        "\n",
        "order = {'C': 1, 'G': 1, 'S': 1}\n",
        "check_order(order)\n"
      ],
      "metadata": {
        "colab": {
          "base_uri": "https://localhost:8080/"
        },
        "id": "Bu55uf09iVty",
        "outputId": "ab78e1bd-61cc-4c99-a9c2-1c32dc98edcc"
      },
      "execution_count": null,
      "outputs": [
        {
          "output_type": "stream",
          "name": "stdout",
          "text": [
            "Enter contents for C sack (C, G, or S): G\n",
            "Enter weight in kilograms for C sack: 55\n",
            "Invalid weight for G sack. Must be between 49.9 and 50.1 kilograms.\n",
            "Enter contents for G sack (C, G, or S): G \n",
            "Enter weight in kilograms for G sack: 50\n",
            "Invalid contents. Must be C, G, S.\n",
            "Enter contents for S sack (C, G, or S): S\n",
            "Enter weight in kilograms for S sack: 50\n",
            "\n",
            "Total weight of the order: 50.0 kilograms.\n",
            "Number of sacks rejected: 2\n",
            "Total price for the order: $2\n"
          ]
        }
      ]
    }
  ]
}